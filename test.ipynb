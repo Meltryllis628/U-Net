{
 "cells": [
  {
   "cell_type": "code",
   "execution_count": 1,
   "metadata": {},
   "outputs": [
    {
     "name": "stderr",
     "output_type": "stream",
     "text": [
      "d:\\Users\\10252\\anaconda3\\envs\\ML03\\lib\\site-packages\\tqdm\\auto.py:21: TqdmWarning: IProgress not found. Please update jupyter and ipywidgets. See https://ipywidgets.readthedocs.io/en/stable/user_install.html\n",
      "  from .autonotebook import tqdm as notebook_tqdm\n"
     ]
    }
   ],
   "source": [
    "import os\n",
    "import csv\n",
    "\n",
    "import cv2\n",
    "import numpy as np\n",
    "import torch\n",
    "import torch.nn as nn\n",
    "import torch.optim as optim\n",
    "from PIL import Image\n",
    "from torch.utils.data import DataLoader\n",
    "from torch.utils.data.dataset import random_split\n",
    "from torchvision import datasets, transforms\n",
    "from tqdm import tqdm\n",
    "from torchsummary import summary\n",
    "\n",
    "from data.dataset import SegmentationDataset\n",
    "from model import someNet\n",
    "from modules.Loss import WeightedCrossEntropyLoss\n",
    "from train import train\n",
    "from modules.Score import Score"
   ]
  },
  {
   "cell_type": "code",
   "execution_count": 2,
   "metadata": {},
   "outputs": [],
   "source": [
    "def append_to_csv(file_path, data):\n",
    "    with open(file_path, 'a', newline='') as file:\n",
    "        writer = csv.writer(file)\n",
    "        writer.writerow(data)"
   ]
  },
  {
   "cell_type": "code",
   "execution_count": 3,
   "metadata": {},
   "outputs": [],
   "source": [
    "train_image_dir = \"train/image/\"\n",
    "train_label_dir = \"train/mask/\"\n",
    "log_path = \"train_log.csv\"\n",
    "batch_size = 10\n",
    "epochs=500\n",
    "lr = 0.001\n",
    "\n",
    "def get_file_names(folder_path):\n",
    "    file_names = []\n",
    "    for file_name in os.listdir(folder_path):\n",
    "        if os.path.isfile(os.path.join(folder_path, file_name)):\n",
    "            file_names.append(folder_path + file_name)\n",
    "    return file_names\n",
    "\n",
    "train_image_path = get_file_names(train_image_dir)\n",
    "train_label_path = get_file_names(train_label_dir)\n",
    "\n",
    "train_transforms = transforms.Compose([\n",
    "    transforms.Grayscale(),\n",
    "    transforms.ToTensor(),\n",
    "])"
   ]
  },
  {
   "cell_type": "code",
   "execution_count": 4,
   "metadata": {},
   "outputs": [],
   "source": [
    "train_raw_dataset = SegmentationDataset(train_image_path, train_label_path, train_transforms)"
   ]
  },
  {
   "cell_type": "code",
   "execution_count": 5,
   "metadata": {},
   "outputs": [],
   "source": [
    "model = someNet()\n",
    "# summary(model,(1,320,640))\n",
    "device = torch.device(\"cuda\" if torch.cuda.is_available() else \"cpu\")\n",
    "model.to(device)\n",
    "if os.path.exists(log_path):\n",
    "    os.remove(log_path)\n",
    "header = [\"train_loss\", \"valid_loss\", \"score\", \"dice\", \"iou\", \"lr\"]\n",
    "append_to_csv(log_path, header)"
   ]
  },
  {
   "cell_type": "code",
   "execution_count": 6,
   "metadata": {},
   "outputs": [],
   "source": [
    "valid_size = 100\n",
    "train_size = len(train_raw_dataset) - valid_size\n",
    "train_dataset, valid_dataset = random_split(train_raw_dataset, [train_size, valid_size])\n",
    "train_loader = DataLoader(train_dataset, batch_size=batch_size, shuffle=True)\n",
    "valid_loader = DataLoader(valid_dataset, batch_size=batch_size, shuffle=True)\n",
    "full_loader = DataLoader(train_raw_dataset, batch_size=batch_size, shuffle=True)"
   ]
  },
  {
   "cell_type": "code",
   "execution_count": 7,
   "metadata": {},
   "outputs": [
    {
     "name": "stderr",
     "output_type": "stream",
     "text": [
      "100%|██████████| 190/190 [01:18<00:00,  2.42it/s]\n"
     ]
    },
    {
     "name": "stdout",
     "output_type": "stream",
     "text": [
      "--- Epoch 1/500: Train loss: 0.6585, valid loss: 0.6327, score: 0.5356\n"
     ]
    },
    {
     "name": "stderr",
     "output_type": "stream",
     "text": [
      "100%|██████████| 190/190 [01:16<00:00,  2.47it/s]\n"
     ]
    },
    {
     "name": "stdout",
     "output_type": "stream",
     "text": [
      "--- Epoch 2/500: Train loss: 0.6195, valid loss: 0.6207, score: 0.5808\n"
     ]
    },
    {
     "name": "stderr",
     "output_type": "stream",
     "text": [
      "100%|██████████| 190/190 [01:17<00:00,  2.45it/s]\n"
     ]
    },
    {
     "name": "stdout",
     "output_type": "stream",
     "text": [
      "--- Epoch 3/500: Train loss: 0.6119, valid loss: 0.6156, score: 0.5987\n"
     ]
    },
    {
     "name": "stderr",
     "output_type": "stream",
     "text": [
      "100%|██████████| 190/190 [01:17<00:00,  2.46it/s]\n"
     ]
    },
    {
     "name": "stdout",
     "output_type": "stream",
     "text": [
      "--- Epoch 4/500: Train loss: 0.6078, valid loss: 0.6165, score: 0.6040\n"
     ]
    },
    {
     "name": "stderr",
     "output_type": "stream",
     "text": [
      "100%|██████████| 190/190 [01:21<00:00,  2.34it/s]\n"
     ]
    },
    {
     "name": "stdout",
     "output_type": "stream",
     "text": [
      "--- Epoch 5/500: Train loss: 0.6023, valid loss: 0.6077, score: 0.6161\n"
     ]
    },
    {
     "name": "stderr",
     "output_type": "stream",
     "text": [
      "100%|██████████| 190/190 [01:23<00:00,  2.26it/s]\n"
     ]
    },
    {
     "name": "stdout",
     "output_type": "stream",
     "text": [
      "--- Epoch 6/500: Train loss: 0.5989, valid loss: 0.6049, score: 0.6191\n"
     ]
    },
    {
     "name": "stderr",
     "output_type": "stream",
     "text": [
      " 26%|██▌       | 49/190 [00:20<00:59,  2.38it/s]\n"
     ]
    },
    {
     "ename": "KeyboardInterrupt",
     "evalue": "",
     "output_type": "error",
     "traceback": [
      "\u001b[1;31m---------------------------------------------------------------------------\u001b[0m",
      "\u001b[1;31mKeyboardInterrupt\u001b[0m                         Traceback (most recent call last)",
      "Cell \u001b[1;32mIn[7], line 27\u001b[0m\n\u001b[0;32m     25\u001b[0m     loss\u001b[39m.\u001b[39mbackward()\n\u001b[0;32m     26\u001b[0m     optimizer\u001b[39m.\u001b[39mstep()\n\u001b[1;32m---> 27\u001b[0m     train_loss \u001b[39m+\u001b[39m\u001b[39m=\u001b[39m loss\u001b[39m.\u001b[39;49mitem()\n\u001b[0;32m     28\u001b[0m train_loss \u001b[39m/\u001b[39m\u001b[39m=\u001b[39m \u001b[39mlen\u001b[39m(train_loader)\n\u001b[0;32m     29\u001b[0m reduce_schedule\u001b[39m.\u001b[39mstep(loss)\n",
      "\u001b[1;31mKeyboardInterrupt\u001b[0m: "
     ]
    }
   ],
   "source": [
    "optimizer = optim.Adam(model.parameters(), lr = lr)\n",
    "criterion = nn.BCEWithLogitsLoss()\n",
    "reduce_schedule = optim.lr_scheduler.ReduceLROnPlateau(optimizer, mode='min', factor=0.5, patience=10,\n",
    "        verbose=False, threshold=1e-4, threshold_mode='rel',\n",
    "        cooldown=0, min_lr=0, eps=1e-8)\n",
    "scorer = Score()\n",
    "try:\n",
    "    os.makedirs(\"./outputs\")\n",
    "except:\n",
    "    pass\n",
    "img = valid_dataset[0][0].to(device)\n",
    "img_display = (img*255).squeeze(0).int().cpu().numpy()\n",
    "cv2.imwrite(\"./outputs/img.jpg\", img_display)\n",
    "\n",
    "for epoch in range(epochs):\n",
    "    model.train()\n",
    "    train_loss = 0.0\n",
    "    for inputs, labels in tqdm(train_loader):\n",
    "        inputs = inputs.to(device)\n",
    "        labels = labels.to(device)\n",
    "        optimizer.zero_grad()\n",
    "        outputs = model(inputs)\n",
    "        loss = criterion(outputs, labels)\n",
    "        torch.sum(outputs == 0)\n",
    "        loss.backward()\n",
    "        optimizer.step()\n",
    "        train_loss += loss.item()\n",
    "    train_loss /= len(train_loader)\n",
    "    reduce_schedule.step(loss)\n",
    "    print(f\"--- Epoch {epoch+1}/{epochs}: Train loss: {train_loss:.4f}\", end = \"\")\n",
    "    model.eval()\n",
    "    valid_loss = 0.0\n",
    "    for inputs, labels in valid_loader:\n",
    "        inputs = inputs.to(device)\n",
    "        labels = labels.to(device)\n",
    "        with torch.no_grad():\n",
    "            outputs = model(inputs)\n",
    "            loss = criterion(outputs, labels)\n",
    "        valid_loss += loss.item()\n",
    "    valid_loss /= len(valid_loader)\n",
    "    epoch_score = 0.0\n",
    "    epoch_dice = 0.0\n",
    "    epoch_iou = 0.0\n",
    "    # epoch_hdict = 0.0\n",
    "    for inputs, labels in full_loader:\n",
    "        inputs = inputs.to(device)\n",
    "        labels = labels.to(device)\n",
    "        with torch.no_grad():\n",
    "            outputs = model(inputs)\n",
    "            score, dice, iou = scorer(outputs, labels)\n",
    "        epoch_score += score.item()\n",
    "        epoch_dice += dice.item()\n",
    "        epoch_iou += iou.item()\n",
    "        # epoch_hdict += hdict.item()\n",
    "    epoch_score /= len(full_loader)\n",
    "    epoch_dice /= len(full_loader)\n",
    "    epoch_iou /= len(full_loader)\n",
    "    # epoch_hdict /= len(full_loader)\n",
    "    print(f\", valid loss: {valid_loss:.4f}, score: {epoch_score:.4f}\")\n",
    "    current_lr = optimizer.param_groups[0]['lr']\n",
    "    outdata = [train_loss, valid_loss, epoch_score, epoch_dice, epoch_iou, current_lr]\n",
    "    append_to_csv(log_path, outdata)\n",
    "    \n",
    "    label = valid_dataset[0][1].to(device)\n",
    "    label_img = (label>0).int().cpu().numpy()\n",
    "    with torch.no_grad():\n",
    "        output = model(img.unsqueeze(0))\n",
    "        pred_img = (output>0).int().cpu().numpy().squeeze(0)\n",
    "    blank = np.zeros_like(pred_img)\n",
    "    out = np.concatenate((pred_img,label_img,blank), axis = 0).transpose(1, 2, 0)*255\n",
    "    cv2.imwrite(\"./outputs/{}.jpg\".format(epoch+1), out)\n",
    "    try:\n",
    "        os.makedirs(\"./state_dict\")\n",
    "    except:\n",
    "        pass\n",
    "    \n",
    "    if ((epoch+1)%10 == 0):\n",
    "        torch.save(model.state_dict(), \"./state_dict/{}.pt\".format(epoch+1))\n"
   ]
  }
 ],
 "metadata": {
  "kernelspec": {
   "display_name": "ML03",
   "language": "python",
   "name": "python3"
  },
  "language_info": {
   "codemirror_mode": {
    "name": "ipython",
    "version": 3
   },
   "file_extension": ".py",
   "mimetype": "text/x-python",
   "name": "python",
   "nbconvert_exporter": "python",
   "pygments_lexer": "ipython3",
   "version": "3.10.9"
  },
  "orig_nbformat": 4
 },
 "nbformat": 4,
 "nbformat_minor": 2
}
